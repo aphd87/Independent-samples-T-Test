{
 "cells": [
  {
   "cell_type": "code",
   "execution_count": 1,
   "id": "a94d6a07",
   "metadata": {},
   "outputs": [
    {
     "data": {
      "text/html": [
       "<style>.container { width:100% !important; }</style>"
      ],
      "text/plain": [
       "<IPython.core.display.HTML object>"
      ]
     },
     "metadata": {},
     "output_type": "display_data"
    }
   ],
   "source": [
    "import pandas as pd\n",
    "import numpy as np\n",
    "import matplotlib.pyplot as plt\n",
    "from scipy.stats import ttest_ind, norm\n",
    "\n",
    "from IPython.display import display, HTML\n",
    "display(HTML(\"<style>.container { width:100% !important; }</style>\"))"
   ]
  },
  {
   "cell_type": "code",
   "execution_count": 2,
   "id": "03414a71",
   "metadata": {},
   "outputs": [],
   "source": [
    "sample_A = norm.rvs(loc=500, scale = 100, size = 250, random_state = 42).astype(int)\n",
    "sample_B = norm.rvs(loc=550, scale= 150, size = 100, random_state = 42).astype(int)\n",
    "#loc-This allows us to create random variables in normal distribution #500 is the mean, scale is STDV\n",
    "#Astype int allows us to deal with whole numbers"
   ]
  },
  {
   "cell_type": "code",
   "execution_count": 5,
   "id": "a9f89dce",
   "metadata": {},
   "outputs": [
    {
     "data": {
      "image/png": "[encoded data removed]",
      "text/plain": [
       "<Figure size 640x480 with 1 Axes>"
      ]
     },
     "metadata": {},
     "output_type": "display_data"
    }
   ],
   "source": [
    "plt.hist(sample_A, density = True, alpha = 0.5)\n",
    "plt.hist(sample_B, density = True, alpha = 0.5)\n",
    "plt.show()"
   ]
  },
  {
   "cell_type": "code",
   "execution_count": null,
   "id": "584414bb",
   "metadata": {},
   "outputs": [],
   "source": [
    "#The distributions are a bit different here."
   ]
  },
  {
   "cell_type": "code",
   "execution_count": 14,
   "id": "4642581a",
   "metadata": {},
   "outputs": [
    {
     "name": "stdout",
     "output_type": "stream",
     "text": [
      "499.264 533.95\n"
     ]
    }
   ],
   "source": [
    "sample_A_mean = sample_A.mean()\n",
    "sample_B_mean = sample_B.mean()\n",
    "print(sample_A_mean, sample_B_mean)"
   ]
  },
  {
   "cell_type": "code",
   "execution_count": 15,
   "id": "ace072d3",
   "metadata": {},
   "outputs": [],
   "source": [
    "#These means are relatively close\n",
    "\n",
    "null_hypothesis = \"The mean of the sample_A is equal to the mean sample_B\"\n",
    "alternate_hypothesis = \"The mean of sample_A is different to the mean of sample_B\"\n",
    "acceptance_criteria = 0.05"
   ]
  },
  {
   "cell_type": "code",
   "execution_count": 18,
   "id": "57ca0c30",
   "metadata": {},
   "outputs": [
    {
     "name": "stdout",
     "output_type": "stream",
     "text": [
      "-2.68121105524328 0.007685002595835944\n"
     ]
    }
   ],
   "source": [
    "#Execute the hypothesis test\n",
    "\n",
    "t_statistic, p_value = ttest_ind(sample_A, sample_B)\n",
    "print(t_statistic, p_value)"
   ]
  },
  {
   "cell_type": "code",
   "execution_count": 19,
   "id": "8489292d",
   "metadata": {},
   "outputs": [
    {
     "name": "stdout",
     "output_type": "stream",
     "text": [
      "As our p-value of 0.007685002595835944 is lower than our acceptance criteria of 0.05 - we reject the null hypothesis, and conclude that: The mean of sample_A is different to the mean of sample_B\n"
     ]
    }
   ],
   "source": [
    "#Print the results\n",
    "if p_value <= acceptance_criteria:\n",
    "    print(f\"As our p-value of {p_value} is lower than our acceptance criteria of {acceptance_criteria} - we reject the null hypothesis, and conclude that: {alternate_hypothesis}\")\n",
    "else:\n",
    "    print(f\"As our p-value of {p_value} is higher than our acceptance criteria {acceptance_criteria} - we accept the null hypothesis, and conclude that: {null_hypothesis}\")\n"
   ]
  },
  {
   "cell_type": "code",
   "execution_count": 20,
   "id": "5cce6ebe",
   "metadata": {},
   "outputs": [
    {
     "name": "stdout",
     "output_type": "stream",
     "text": [
      "-2.3241387495392147 0.02155051473716863\n"
     ]
    }
   ],
   "source": [
    "#Welch's T-Test\n",
    "#This is more reliable - it takes into account if samples are not equal\n",
    "\n",
    "#Execute the hypothesis test\n",
    "\n",
    "t_statistic, p_value = ttest_ind(sample_A, sample_B, equal_var = False)\n",
    "print(t_statistic, p_value)\n",
    "#We have different results here, but we will still have the same conclusion - we are less confident in difference between two samples"
   ]
  },
  {
   "cell_type": "code",
   "execution_count": null,
   "id": "c01d97b6",
   "metadata": {},
   "outputs": [],
   "source": [
    "#Print the results\n",
    "if p_value <= acceptance_criteria:\n",
    "    print(f\"As our p-value of {p_value} is lower than our acceptance criteria of {acceptance_criteria} - we reject the null hypothesis, and conclude that: {alternate_hypothesis}\")\n",
    "else:\n",
    "    print(f\"As our p-value of {p_value} is higher than our acceptance criteria {acceptance_criteria} - we accept the null hypothesis, and conclude that: {null_hypothesis}\")\n"
   ]
  }
 ],
 "metadata": {
  "kernelspec": {
   "display_name": "Python 3 (ipykernel)",
   "language": "python",
   "name": "python3"
  },
  "language_info": {
   "codemirror_mode": {
    "name": "ipython",
    "version": 3
   },
   "file_extension": ".py",
   "mimetype": "text/x-python",
   "name": "python",
   "nbconvert_exporter": "python",
   "pygments_lexer": "ipython3",
   "version": "3.11.5"
  }
 },
 "nbformat": 4,
 "nbformat_minor": 5
}
